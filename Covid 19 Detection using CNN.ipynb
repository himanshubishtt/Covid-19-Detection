{
 "cells": [
  {
   "cell_type": "code",
   "execution_count": 35,
   "metadata": {
    "colab": {},
    "colab_type": "code",
    "id": "reFPGQFA6Hw8"
   },
   "outputs": [],
   "source": [
    "#Obtained Dataset from https://www.dropbox.com/s/7rjw6oet4za01op/CovidDataset-20200427T133042Z-001.zip?dl=0\n",
    "\n",
    "TRAIN_PATH = \"CovidDataset/Train\"\n",
    "VAL_PATH = \"CovidDataset/Val\""
   ]
  },
  {
   "cell_type": "code",
   "execution_count": 36,
   "metadata": {
    "colab": {},
    "colab_type": "code",
    "id": "1r1YsRNe6H2a"
   },
   "outputs": [],
   "source": [
    "import numpy as np\n",
    "import matplotlib.pyplot as plt\n",
    "import keras\n",
    "from keras.layers import *\n",
    "from keras.models import *\n",
    "from keras.preprocessing import image\n",
    "import keras\n",
    "import os"
   ]
  },
  {
   "cell_type": "markdown",
   "metadata": {},
   "source": [
    "# Building CNN Model here"
   ]
  },
  {
   "cell_type": "code",
   "execution_count": 37,
   "metadata": {
    "colab": {},
    "colab_type": "code",
    "id": "_vH-wkRm6H6A"
   },
   "outputs": [],
   "source": [
    "model = Sequential()\n",
    "model.add(Conv2D(32, kernel_size = (3,3),activation='relu',input_shape=(224,224,3)))\n",
    "model.add(Conv2D(64, (3,3),activation='relu'))\n",
    "model.add(MaxPooling2D(pool_size=(2,2)))\n",
    "model.add(Dropout(0.25))\n",
    "\n",
    "model.add(Conv2D(64,(3,3),activation='relu'))\n",
    "model.add(MaxPooling2D(pool_size=(2,2)))\n",
    "model.add(Dropout(0.25))\n",
    "\n",
    "model.add(Conv2D(128,(3,3),activation='relu'))\n",
    "model.add(MaxPooling2D(pool_size=(2,2)))\n",
    "model.add(Dropout(0.25))\n",
    "\n",
    "model.add(Flatten())\n",
    "model.add(Dense(64, activation='relu'))\n",
    "model.add(Dropout(0.5))\n",
    "model.add(Dense(1,activation='sigmoid'))\n",
    "\n",
    "model.compile(optimizer='adam',loss='binary_crossentropy',metrics=['accuracy'])\n",
    "\n"
   ]
  },
  {
   "cell_type": "code",
   "execution_count": 38,
   "metadata": {
    "colab": {
     "base_uri": "https://localhost:8080/",
     "height": 622
    },
    "colab_type": "code",
    "collapsed": true,
    "id": "pWczHK4o9ZFR",
    "outputId": "151d484a-8f60-4929-ac5c-7aac3a87b57a"
   },
   "outputs": [
    {
     "name": "stdout",
     "output_type": "stream",
     "text": [
      "Model: \"sequential_1\"\n",
      "_________________________________________________________________\n",
      "Layer (type)                 Output Shape              Param #   \n",
      "=================================================================\n",
      "conv2d_4 (Conv2D)            (None, 222, 222, 32)      896       \n",
      "_________________________________________________________________\n",
      "conv2d_5 (Conv2D)            (None, 220, 220, 64)      18496     \n",
      "_________________________________________________________________\n",
      "max_pooling2d_3 (MaxPooling2 (None, 110, 110, 64)      0         \n",
      "_________________________________________________________________\n",
      "dropout_4 (Dropout)          (None, 110, 110, 64)      0         \n",
      "_________________________________________________________________\n",
      "conv2d_6 (Conv2D)            (None, 108, 108, 64)      36928     \n",
      "_________________________________________________________________\n",
      "max_pooling2d_4 (MaxPooling2 (None, 54, 54, 64)        0         \n",
      "_________________________________________________________________\n",
      "dropout_5 (Dropout)          (None, 54, 54, 64)        0         \n",
      "_________________________________________________________________\n",
      "conv2d_7 (Conv2D)            (None, 52, 52, 128)       73856     \n",
      "_________________________________________________________________\n",
      "max_pooling2d_5 (MaxPooling2 (None, 26, 26, 128)       0         \n",
      "_________________________________________________________________\n",
      "dropout_6 (Dropout)          (None, 26, 26, 128)       0         \n",
      "_________________________________________________________________\n",
      "flatten_1 (Flatten)          (None, 86528)             0         \n",
      "_________________________________________________________________\n",
      "dense_2 (Dense)              (None, 64)                5537856   \n",
      "_________________________________________________________________\n",
      "dropout_7 (Dropout)          (None, 64)                0         \n",
      "_________________________________________________________________\n",
      "dense_3 (Dense)              (None, 1)                 65        \n",
      "=================================================================\n",
      "Total params: 5,668,097\n",
      "Trainable params: 5,668,097\n",
      "Non-trainable params: 0\n",
      "_________________________________________________________________\n"
     ]
    }
   ],
   "source": [
    "model.summary()"
   ]
  },
  {
   "cell_type": "markdown",
   "metadata": {},
   "source": [
    "# Preparing Data for input to the network"
   ]
  },
  {
   "cell_type": "code",
   "execution_count": 6,
   "metadata": {
    "colab": {},
    "colab_type": "code",
    "id": "Ttlwa09k9l18"
   },
   "outputs": [],
   "source": [
    "train_datagen = image.ImageDataGenerator(\n",
    "    rescale = 1./255,\n",
    "    horizontal_flip = True,\n",
    "    shear_range = 0.2,\n",
    "    zoom_range = 0.2\n",
    ")\n",
    "\n",
    "test_dataset = image.ImageDataGenerator(rescale = 1./255)"
   ]
  },
  {
   "cell_type": "code",
   "execution_count": 7,
   "metadata": {
    "colab": {
     "base_uri": "https://localhost:8080/",
     "height": 34
    },
    "colab_type": "code",
    "id": "zJWccOzn9l_F",
    "outputId": "45d15107-8804-480d-91e5-ab68deec3290"
   },
   "outputs": [
    {
     "name": "stdout",
     "output_type": "stream",
     "text": [
      "Found 224 images belonging to 2 classes.\n"
     ]
    }
   ],
   "source": [
    "train_generator = train_datagen.flow_from_directory(\n",
    "    'CovidDataset/Train',\n",
    "    target_size = (224,224),\n",
    "    batch_size = 32,\n",
    "    class_mode = \"binary\"\n",
    ")"
   ]
  },
  {
   "cell_type": "code",
   "execution_count": 8,
   "metadata": {
    "colab": {
     "base_uri": "https://localhost:8080/",
     "height": 34
    },
    "colab_type": "code",
    "id": "Lld1yvwl9mBc",
    "outputId": "ee15de55-21ef-41ff-dd3f-4f8d17903fbb"
   },
   "outputs": [
    {
     "data": {
      "text/plain": [
       "{'Covid': 0, 'Normal': 1}"
      ]
     },
     "execution_count": 8,
     "metadata": {},
     "output_type": "execute_result"
    }
   ],
   "source": [
    "train_generator.class_indices"
   ]
  },
  {
   "cell_type": "code",
   "execution_count": 9,
   "metadata": {
    "colab": {
     "base_uri": "https://localhost:8080/",
     "height": 34
    },
    "colab_type": "code",
    "id": "qxN5AU0o_Gsw",
    "outputId": "4ed0ad94-4f62-445a-cc7a-c1832fe821de"
   },
   "outputs": [
    {
     "name": "stdout",
     "output_type": "stream",
     "text": [
      "Found 60 images belonging to 2 classes.\n"
     ]
    }
   ],
   "source": [
    "validation_generator = test_dataset.flow_from_directory(\n",
    "    'CovidDataset/Val',\n",
    "    target_size = (224,224),\n",
    "    batch_size = 32,\n",
    "    class_mode = \"binary\"\n",
    ")"
   ]
  },
  {
   "cell_type": "markdown",
   "metadata": {},
   "source": [
    "# Actual Training takes place here"
   ]
  },
  {
   "cell_type": "markdown",
   "metadata": {},
   "source": [
    "## Run this only once and save the model after training"
   ]
  },
  {
   "cell_type": "code",
   "execution_count": 10,
   "metadata": {
    "colab": {
     "base_uri": "https://localhost:8080/",
     "height": 689
    },
    "colab_type": "code",
    "collapsed": true,
    "id": "Uw09f5g9_GxG",
    "outputId": "d761f1b1-b36f-4fba-f4ca-83f4871fe2a1"
   },
   "outputs": [
    {
     "name": "stdout",
     "output_type": "stream",
     "text": [
      "WARNING:tensorflow:From <ipython-input-10-0401ea1d21a4>:1: Model.fit_generator (from tensorflow.python.keras.engine.training) is deprecated and will be removed in a future version.\n",
      "Instructions for updating:\n",
      "Please use Model.fit, which supports generators.\n",
      "Epoch 1/20\n",
      "6/6 [==============================] - 28s 5s/step - loss: 0.8213 - accuracy: 0.5677 - val_loss: 0.6806 - val_accuracy: 0.5167\n",
      "Epoch 2/20\n",
      "6/6 [==============================] - 25s 4s/step - loss: 0.5655 - accuracy: 0.7240 - val_loss: 0.4889 - val_accuracy: 0.9333\n",
      "Epoch 3/20\n",
      "6/6 [==============================] - 23s 4s/step - loss: 0.3725 - accuracy: 0.8385 - val_loss: 0.2207 - val_accuracy: 0.9667\n",
      "Epoch 4/20\n",
      "6/6 [==============================] - 23s 4s/step - loss: 0.3003 - accuracy: 0.8750 - val_loss: 0.3002 - val_accuracy: 0.9333\n",
      "Epoch 5/20\n",
      "6/6 [==============================] - 23s 4s/step - loss: 0.2071 - accuracy: 0.9375 - val_loss: 0.1492 - val_accuracy: 0.9667\n",
      "Epoch 6/20\n",
      "6/6 [==============================] - 23s 4s/step - loss: 0.2142 - accuracy: 0.9167 - val_loss: 0.1828 - val_accuracy: 0.9833\n",
      "Epoch 7/20\n",
      "6/6 [==============================] - 23s 4s/step - loss: 0.2089 - accuracy: 0.9479 - val_loss: 0.1526 - val_accuracy: 0.9833\n",
      "Epoch 8/20\n",
      "6/6 [==============================] - 23s 4s/step - loss: 0.1720 - accuracy: 0.9271 - val_loss: 0.1179 - val_accuracy: 0.9833\n",
      "Epoch 9/20\n",
      "6/6 [==============================] - 25s 4s/step - loss: 0.1160 - accuracy: 0.9583 - val_loss: 0.0804 - val_accuracy: 0.9667\n",
      "Epoch 10/20\n",
      "6/6 [==============================] - 27s 4s/step - loss: 0.1007 - accuracy: 0.9740 - val_loss: 0.0603 - val_accuracy: 0.9667\n",
      "Epoch 11/20\n",
      "6/6 [==============================] - 25s 4s/step - loss: 0.2058 - accuracy: 0.9427 - val_loss: 0.1403 - val_accuracy: 0.9667\n",
      "Epoch 12/20\n",
      "6/6 [==============================] - 23s 4s/step - loss: 0.1279 - accuracy: 0.9427 - val_loss: 0.0852 - val_accuracy: 0.9833\n",
      "Epoch 13/20\n",
      "6/6 [==============================] - 23s 4s/step - loss: 0.1084 - accuracy: 0.9740 - val_loss: 0.0997 - val_accuracy: 0.9667\n",
      "Epoch 14/20\n",
      "6/6 [==============================] - 24s 4s/step - loss: 0.1921 - accuracy: 0.9115 - val_loss: 0.1298 - val_accuracy: 0.9500\n",
      "Epoch 15/20\n",
      "6/6 [==============================] - 24s 4s/step - loss: 0.1409 - accuracy: 0.9479 - val_loss: 0.1270 - val_accuracy: 0.9667\n",
      "Epoch 16/20\n",
      "6/6 [==============================] - 25s 4s/step - loss: 0.1029 - accuracy: 0.9635 - val_loss: 0.0830 - val_accuracy: 0.9833\n",
      "Epoch 17/20\n",
      "6/6 [==============================] - 23s 4s/step - loss: 0.1059 - accuracy: 0.9688 - val_loss: 0.0870 - val_accuracy: 0.9667\n",
      "Epoch 18/20\n",
      "6/6 [==============================] - 23s 4s/step - loss: 0.1260 - accuracy: 0.9635 - val_loss: 0.1049 - val_accuracy: 0.9500\n",
      "Epoch 19/20\n",
      "6/6 [==============================] - 23s 4s/step - loss: 0.1705 - accuracy: 0.9427 - val_loss: 0.0428 - val_accuracy: 0.9667\n",
      "Epoch 20/20\n",
      "6/6 [==============================] - 24s 4s/step - loss: 0.1494 - accuracy: 0.9271 - val_loss: 0.1247 - val_accuracy: 0.9333\n"
     ]
    }
   ],
   "source": [
    "hist = model.fit_generator(\n",
    "    train_generator,\n",
    "    steps_per_epoch = 6,\n",
    "    epochs = 20,\n",
    "    validation_data = validation_generator,\n",
    "    validation_steps = 2\n",
    ")"
   ]
  },
  {
   "cell_type": "code",
   "execution_count": 12,
   "metadata": {
    "colab": {
     "base_uri": "https://localhost:8080/",
     "height": 154
    },
    "colab_type": "code",
    "collapsed": true,
    "id": "3uc_IeyV_Gzg",
    "outputId": "3c592648-81a1-453f-9b39-e00cb58b61a0"
   },
   "outputs": [
    {
     "data": {
      "text/plain": [
       "{'loss': [0.82127445936203,\n",
       "  0.5654894113540649,\n",
       "  0.37252816557884216,\n",
       "  0.30029550194740295,\n",
       "  0.20707692205905914,\n",
       "  0.21418233215808868,\n",
       "  0.20890511572360992,\n",
       "  0.17201144993305206,\n",
       "  0.11595187336206436,\n",
       "  0.10065259784460068,\n",
       "  0.20576874911785126,\n",
       "  0.12794308364391327,\n",
       "  0.10841711610555649,\n",
       "  0.1920943260192871,\n",
       "  0.14088547229766846,\n",
       "  0.10294776409864426,\n",
       "  0.1058734655380249,\n",
       "  0.12597030401229858,\n",
       "  0.1705295443534851,\n",
       "  0.14940278232097626],\n",
       " 'accuracy': [0.5677083134651184,\n",
       "  0.7239583134651184,\n",
       "  0.8385416865348816,\n",
       "  0.875,\n",
       "  0.9375,\n",
       "  0.9166666865348816,\n",
       "  0.9479166865348816,\n",
       "  0.9270833134651184,\n",
       "  0.9583333134651184,\n",
       "  0.9739583134651184,\n",
       "  0.9427083134651184,\n",
       "  0.9427083134651184,\n",
       "  0.9739583134651184,\n",
       "  0.9114583134651184,\n",
       "  0.9479166865348816,\n",
       "  0.9635416865348816,\n",
       "  0.96875,\n",
       "  0.9635416865348816,\n",
       "  0.9427083134651184,\n",
       "  0.9270833134651184],\n",
       " 'val_loss': [0.6806002855300903,\n",
       "  0.48885905742645264,\n",
       "  0.2207493782043457,\n",
       "  0.30019232630729675,\n",
       "  0.14921022951602936,\n",
       "  0.18282672762870789,\n",
       "  0.15256567299365997,\n",
       "  0.11794813722372055,\n",
       "  0.0803576409816742,\n",
       "  0.060275495052337646,\n",
       "  0.14030790328979492,\n",
       "  0.08516933023929596,\n",
       "  0.09969496726989746,\n",
       "  0.1297818273305893,\n",
       "  0.12702468037605286,\n",
       "  0.08298499137163162,\n",
       "  0.08701293915510178,\n",
       "  0.10486633330583572,\n",
       "  0.042849186807870865,\n",
       "  0.12474028766155243],\n",
       " 'val_accuracy': [0.5166666507720947,\n",
       "  0.9333333373069763,\n",
       "  0.9666666388511658,\n",
       "  0.9333333373069763,\n",
       "  0.9666666388511658,\n",
       "  0.9833333492279053,\n",
       "  0.9833333492279053,\n",
       "  0.9833333492279053,\n",
       "  0.9666666388511658,\n",
       "  0.9666666388511658,\n",
       "  0.9666666388511658,\n",
       "  0.9833333492279053,\n",
       "  0.9666666388511658,\n",
       "  0.949999988079071,\n",
       "  0.9666666388511658,\n",
       "  0.9833333492279053,\n",
       "  0.9666666388511658,\n",
       "  0.949999988079071,\n",
       "  0.9666666388511658,\n",
       "  0.9333333373069763]}"
      ]
     },
     "execution_count": 12,
     "metadata": {},
     "output_type": "execute_result"
    }
   ],
   "source": [
    "summary=hist.history\n",
    "summary"
   ]
  },
  {
   "cell_type": "code",
   "execution_count": 13,
   "metadata": {
    "colab": {
     "base_uri": "https://localhost:8080/",
     "height": 34
    },
    "colab_type": "code",
    "id": "pWX1Zj3-_G5A",
    "outputId": "593b64af-54be-43c3-b27d-78a903de522d"
   },
   "outputs": [
    {
     "name": "stdout",
     "output_type": "stream",
     "text": [
      "WARNING:tensorflow:From C:\\Users\\himan\\anaconda3\\lib\\site-packages\\tensorflow\\python\\training\\tracking\\tracking.py:111: Model.state_updates (from tensorflow.python.keras.engine.training) is deprecated and will be removed in a future version.\n",
      "Instructions for updating:\n",
      "This property should not be used in TensorFlow 2.0, as updates are applied automatically.\n",
      "WARNING:tensorflow:From C:\\Users\\himan\\anaconda3\\lib\\site-packages\\tensorflow\\python\\training\\tracking\\tracking.py:111: Layer.updates (from tensorflow.python.keras.engine.base_layer) is deprecated and will be removed in a future version.\n",
      "Instructions for updating:\n",
      "This property should not be used in TensorFlow 2.0, as updates are applied automatically.\n",
      "INFO:tensorflow:Assets written to: covid19detector\\assets\n"
     ]
    }
   ],
   "source": [
    "model.save(\"covid19detector\")"
   ]
  },
  {
   "cell_type": "code",
   "execution_count": 16,
   "metadata": {},
   "outputs": [],
   "source": [
    "model = keras.models.load_model(\"covid19detector\")"
   ]
  },
  {
   "cell_type": "markdown",
   "metadata": {},
   "source": [
    "# Checking model performance"
   ]
  },
  {
   "cell_type": "code",
   "execution_count": 18,
   "metadata": {
    "colab": {},
    "colab_type": "code",
    "id": "tNOrih56_G2j"
   },
   "outputs": [
    {
     "name": "stdout",
     "output_type": "stream",
     "text": [
      "2/2 [==============================] - 2s 797ms/step - loss: 0.1247 - accuracy: 0.9333\n"
     ]
    },
    {
     "data": {
      "text/plain": [
       "[0.12474029511213303, 0.9333333373069763]"
      ]
     },
     "execution_count": 18,
     "metadata": {},
     "output_type": "execute_result"
    }
   ],
   "source": [
    "model.evaluate(validation_generator)"
   ]
  },
  {
   "cell_type": "code",
   "execution_count": 19,
   "metadata": {},
   "outputs": [
    {
     "data": {
      "text/plain": [
       "{'Covid': 0, 'Normal': 1}"
      ]
     },
     "execution_count": 19,
     "metadata": {},
     "output_type": "execute_result"
    }
   ],
   "source": [
    "train_generator.class_indices"
   ]
  },
  {
   "cell_type": "code",
   "execution_count": 29,
   "metadata": {},
   "outputs": [],
   "source": [
    "y_true, y_test = [],[]"
   ]
  },
  {
   "cell_type": "code",
   "execution_count": 30,
   "metadata": {},
   "outputs": [],
   "source": [
    "for i in os.listdir(\"CovidDataset/Val/Normal/\"):\n",
    "    img=image.load_img(\"CovidDataset/Val/Normal/\"+i,target_size=(224,224))\n",
    "    img=image.img_to_array(img)\n",
    "    img=np.expand_dims(img,axis=0)\n",
    "    pred=model.predict_classes(img)\n",
    "    y_test.append(pred[0,0])\n",
    "    y_true.append(1)"
   ]
  },
  {
   "cell_type": "code",
   "execution_count": 31,
   "metadata": {},
   "outputs": [],
   "source": [
    "for i in os.listdir(\"./CovidDataset/Val/Covid/\"):\n",
    "    img=image.load_img(\"CovidDataset/Val/Covid/\"+i,target_size=(224,224))\n",
    "    img=image.img_to_array(img)\n",
    "    img=np.expand_dims(img,axis=0)\n",
    "    pred=model.predict_classes(img)\n",
    "    y_test.append(pred[0,0])\n",
    "    y_true.append(0)"
   ]
  },
  {
   "cell_type": "code",
   "execution_count": 32,
   "metadata": {},
   "outputs": [],
   "source": [
    "y_true=np.array(y_true)\n",
    "y_test=np.array(y_test)"
   ]
  },
  {
   "cell_type": "code",
   "execution_count": 33,
   "metadata": {},
   "outputs": [],
   "source": [
    "from sklearn.metrics import confusion_matrix\n",
    "import seaborn as sns\n",
    "\n",
    "cn=confusion_matrix(y_true,y_test)"
   ]
  },
  {
   "cell_type": "markdown",
   "metadata": {},
   "source": [
    "# 0 indicates positive cases\n",
    "\n",
    "# 1 indicates negative ones"
   ]
  },
  {
   "cell_type": "code",
   "execution_count": 34,
   "metadata": {},
   "outputs": [
    {
     "data": {
      "text/plain": [
       "<matplotlib.axes._subplots.AxesSubplot at 0x19401bf3160>"
      ]
     },
     "execution_count": 34,
     "metadata": {},
     "output_type": "execute_result"
    },
    {
     "data": {
      "image/png": "[encoded data removed]",
      "text/plain": [
       "<Figure size 432x288 with 2 Axes>"
      ]
     },
     "metadata": {
      "needs_background": "light"
     },
     "output_type": "display_data"
    }
   ],
   "source": [
    "sns.heatmap(cn,annot=True) "
   ]
  }
 ],
 "metadata": {
  "accelerator": "GPU",
  "colab": {
   "name": "Covid 19 Detector.ipynb",
   "provenance": [],
   "toc_visible": true
  },
  "kernelspec": {
   "display_name": "Python 3",
   "language": "python",
   "name": "python3"
  },
  "language_info": {
   "codemirror_mode": {
    "name": "ipython",
    "version": 3
   },
   "file_extension": ".py",
   "mimetype": "text/x-python",
   "name": "python",
   "nbconvert_exporter": "python",
   "pygments_lexer": "ipython3",
   "version": "3.8.3"
  }
 },
 "nbformat": 4,
 "nbformat_minor": 1
}
